{
 "cells": [
  {
   "cell_type": "code",
   "execution_count": null,
   "id": "a9ccd76b",
   "metadata": {},
   "outputs": [],
   "source": [
    "import sys\n",
    "if '../' != sys.path[0]: \n",
    "    sys.path.insert(0, '../')\n",
    "import numpy as np\n",
    "import pandas as pd\n",
    "import datapane as dp\n",
    "import json\n",
    "import os\n",
    "import re\n",
    "\n",
    "\n",
    "from auto_assist.lib import is_pinyin, contain_chinese\n",
    "\n",
    "from itables import init_notebook_mode, show\n",
    "init_notebook_mode(all_interactive=False)"
   ]
  },
  {
   "cell_type": "code",
   "execution_count": null,
   "id": "fd3c0f9a",
   "metadata": {},
   "outputs": [],
   "source": [
    "def load_data(data_dir: str):\n",
    "    gs_profile_file = os.path.join(data_dir, 'gs_profiles.jsonl')\n",
    "    data = []\n",
    "    with open(gs_profile_file, 'r', encoding='utf8') as fp:\n",
    "        for line in fp:\n",
    "            data.append(json.loads(line))\n",
    "    return data\n",
    "\n",
    "def get_cited(text: str):\n",
    "    line = text.splitlines()[1]\n",
    "    _, c_all, c_5yr = line.split()\n",
    "    return int(c_all), int(c_5yr)\n",
    "\n",
    "def is_chinese(name):\n",
    "    if contain_chinese(name):\n",
    "        return True\n",
    "    if is_pinyin(name.rsplit(None, 1)[-1]):\n",
    "        return True\n",
    "    return False\n",
    "\n",
    "def screening(text, whitelist, blacklist):\n",
    "    for token in whitelist:\n",
    "        if token in text:\n",
    "            return True, token\n",
    "    for token in blacklist:\n",
    "        if token in text:\n",
    "            return False, token\n",
    "    return True, None\n",
    "\n",
    "def get_email_from_brief(brief):\n",
    "    match = re.search(r'Verified email at (\\S+)', brief)\n",
    "    return match.group(1) if match else None"
   ]
  },
  {
   "cell_type": "code",
   "execution_count": null,
   "id": "b5e3bb59",
   "metadata": {},
   "outputs": [],
   "source": [
    "data = load_data('../out')"
   ]
  },
  {
   "cell_type": "code",
   "execution_count": null,
   "id": "c74e3fce",
   "metadata": {},
   "outputs": [],
   "source": [
    "whitelist = ['computational', 'quantum chemistry', 'dft', 'density function', 'robot']\n",
    "blacklist = ['biophysics']\n",
    "\n",
    "\n",
    "candidates = []\n",
    "for obj in data:\n",
    "    full_text = '\\n'.join(obj['articles'] + obj['tags']).lower() \n",
    "    if not is_chinese(obj['name']):\n",
    "        continue    \n",
    "    accept, rule = screening(full_text, whitelist, blacklist)\n",
    "    if not accept:\n",
    "        continue\n",
    "    candidates.push(obj)\n",
    "\n",
    "# write xml\n",
    "for i, obj in enumerate(candidates):    \n",
    "    email = get_email_from_brief(obj['brief'])\n",
    "    c_all, c_5yr = get_cited(obj['cited_stats'])\n",
    "    c_5yr_ratio = c_5yr / c_all if c_all > 0 else 0\n",
    "    \n",
    "    \n",
    "\n",
    "    \n",
    "    \n",
    "\n"
   ]
  },
  {
   "cell_type": "code",
   "execution_count": null,
   "id": "5dd3a041",
   "metadata": {},
   "outputs": [],
   "source": []
  }
 ],
 "metadata": {
  "kernelspec": {
   "display_name": "Python 3 (ipykernel)",
   "language": "python",
   "name": "python3"
  },
  "language_info": {
   "codemirror_mode": {
    "name": "ipython",
    "version": 3
   },
   "file_extension": ".py",
   "mimetype": "text/x-python",
   "name": "python",
   "nbconvert_exporter": "python",
   "pygments_lexer": "ipython3",
   "version": "3.8.16"
  }
 },
 "nbformat": 4,
 "nbformat_minor": 5
}
